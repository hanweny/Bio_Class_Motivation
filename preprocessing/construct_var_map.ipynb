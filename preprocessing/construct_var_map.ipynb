{
 "cells": [
  {
   "cell_type": "markdown",
   "metadata": {},
   "source": [
    "## This notebook does variable selections based on codebook review\n",
    "Note: Daily surveys haven't been selected yet"
   ]
  },
  {
   "cell_type": "code",
   "execution_count": 1,
   "metadata": {},
   "outputs": [],
   "source": [
    "import sys, os\n",
    "DMOL_DIR = \"/Users/Henryye/research/shaf/DMOL\"\n",
    "sys.path.append(os.path.join(DMOL_DIR, \"utils\"))\n",
    "\n",
    "import pandas as pd\n",
    "import numpy as np\n",
    "import re\n",
    "from ml_utils import save_object, load_object\n",
    "\n",
    "from collections import defaultdict"
   ]
  },
  {
   "cell_type": "code",
   "execution_count": 2,
   "metadata": {},
   "outputs": [],
   "source": [
    "df = pd.read_excel(\"../data/student_interested_var_decision_modified.xlsx\", sheet_name = None)"
   ]
  },
  {
   "cell_type": "markdown",
   "metadata": {},
   "source": [
    "### Pre & Post"
   ]
  },
  {
   "cell_type": "code",
   "execution_count": 3,
   "metadata": {},
   "outputs": [],
   "source": [
    "pre_post_vars = defaultdict(lambda: defaultdict(set))\n",
    "for var, con in zip(df[\"Pre & Post\"][\"Var\"], df[\"Pre & Post\"][\"Construct\"]):\n",
    "    if var is not np.nan:\n",
    "        if \"pre\" in var:\n",
    "            pre_post_vars[\"pre\"][con].add(var)\n",
    "        elif \"post\" in var:\n",
    "            pre_post_vars[\"post\"][con].add(var)\n",
    "        else:\n",
    "            pre_post_vars[\"other\"][con].add(var)"
   ]
  },
  {
   "cell_type": "code",
   "execution_count": 4,
   "metadata": {},
   "outputs": [],
   "source": [
    "# Course Identifiers\n",
    "pre_post_vars[\"other\"].pop(\"Course Identifiers\")\n",
    "\n",
    "# Open ended question \n",
    "pre_post_vars[\"post\"][\"Course Plan\"].remove(\"post_studyplan_chgw\")\n",
    "pre_post_vars[\"post\"][\"Course Plan\"].remove(\"post_studyplan_chgh\")\n",
    "\n",
    "# No extra\n",
    "pre_post_vars[\"pre\"].pop(\"Extra\")\n",
    "pre_post_vars[\"post\"].pop(\"Extra\")\n",
    "\n",
    "# why expected is different from wanted (open) (have the non open version)\n",
    "pre_post_vars[\"pre\"][\"Grade Expectations\"].remove(\"pre_difgrade_o\")\n",
    "\n",
    "# why are you taking this course? (open) (have the non open version)\n",
    "pre_post_vars[\"pre\"][\"Motivation for Taking Course\"].remove(\"pre_reas_o\")\n",
    "# goals for this course (open) (have the non open version)\n",
    "pre_post_vars[\"pre\"][\"Motivation for Taking Course\"].remove(\"pre_coursegoals_o\")\n",
    "\n",
    "# actual completion of other activity i\n",
    "for i in range(4, 11):\n",
    "    pre_post_vars[\"post\"][\"Other Activities Completion\"].remove(\"post_oactcompx{}\".format(i))\n",
    "\n",
    "    \n",
    "# What other important activities do you plan on doing in July while completing this course?\n",
    "for i in range(4, 11):\n",
    "    pre_post_vars[\"pre\"][\"Other Activities List\"].remove(\"pre_oact{}\".format(i))\n",
    "for i in range(11, 16):\n",
    "    pre_post_vars[\"post\"][\"Other Activities List\"].remove(\"post_oact{}\".format(i))\n",
    "    \n",
    "# importance rank of other activity i\n",
    "for i in range(4, 11):\n",
    "    pre_post_vars[\"pre\"][\"Other Activities Rank\"].remove(\"pre_oact{}rank\".format(i))\n",
    "    pre_post_vars[\"post\"][\"Other Activities Rank\"].remove(\"post_oact{}rank\".format(i))\n",
    "for i in range(11, 16):\n",
    "    pre_post_vars[\"post\"][\"Other Activities Rank\"].remove(\"post_oact{}rank\".format(i))\n",
    "    \n",
    "# hours per week on other activity i\n",
    "for i in range(4, 11):\n",
    "    pre_post_vars[\"pre\"][\"Other Activities Time\"].remove(\"pre_oact{}hrs\".format(i))\n",
    "    pre_post_vars[\"post\"][\"Other Activities Time\"].remove(\"post_oact{}hrs\".format(i))\n",
    "for i in range(11, 16):\n",
    "    pre_post_vars[\"post\"][\"Other Activities Time\"].remove(\"post_oact{}hrs\".format(i))  \n",
    "    \n",
    "\n",
    "#how you make performance comparison (open-ended)\n",
    "pre_post_vars[\"post\"][\"Performance Comparisons\"].remove(\"post_perfown_o\")\n",
    "\n",
    "#how others judge your performance (open-ended)\n",
    "pre_post_vars[\"post\"][\"Performance Comparisons\"].remove(\"post_perfoth_o\")\n",
    "\n",
    "#interested in UCI's Online Daily Diary Study\n",
    "pre_post_vars[\"pre\"][\"Study Participation\"].remove(\"pre_studyinterest\")\n",
    "\n",
    "# What type of gift card would you prefer as payment?\n",
    "pre_post_vars[\"pre\"][\"Study Participation\"].remove(\"pre_giftcard\")"
   ]
  },
  {
   "cell_type": "code",
   "execution_count": 5,
   "metadata": {},
   "outputs": [
    {
     "data": {
      "text/plain": [
       "234"
      ]
     },
     "execution_count": 5,
     "metadata": {},
     "output_type": "execute_result"
    }
   ],
   "source": [
    "len([z for k in pre_post_vars for v in pre_post_vars[k] for z in pre_post_vars[k][v]])"
   ]
  },
  {
   "cell_type": "code",
   "execution_count": 6,
   "metadata": {},
   "outputs": [
    {
     "name": "stdout",
     "output_type": "stream",
     "text": [
      "post:\tNum construct:  30\tNum var:  127\n",
      "pre:\tNum construct:  28\tNum var:  104\n",
      "other:\tNum construct:  1\tNum var:  3\n"
     ]
    }
   ],
   "source": [
    "for k in pre_post_vars:\n",
    "    print(\"{}:\\tNum construct:  {}\\tNum var:  {}\".format(\n",
    "        k, len(pre_post_vars[k]), len([z for v in pre_post_vars[k] for z in pre_post_vars[k][v]])))"
   ]
  },
  {
   "cell_type": "markdown",
   "metadata": {},
   "source": [
    "### Weekly"
   ]
  },
  {
   "cell_type": "code",
   "execution_count": 7,
   "metadata": {},
   "outputs": [],
   "source": [
    "weekly_raw_vars = 'att3w2 att3w3 att3w4 att3w5 cost2w2 cost2w3 cost2w4 cost2w5 cost6w2 cost6w3 cost6w4 cost6w5 cost9w2 cost9w3 cost9w4 cost9w5 wgradecw2 wgradecw3 wgradecw4 wgradecw5 egradecw2 egradecw3 egradecw4 egradecw5 badgradecw2 badgradecw3 badgradecw4 badgradecw5 wgradefw4 wgradefw5 egradefw4 egradefw5 badgradefw4 badgradefw5 wgrademw2 egrademw2 badgrademw2 wgradeqw2 wgradeqw3 wgradeqw4 wgradeqw5 egradeqw2 egradeqw3 egradeqw4 egradeqw5 badgradeqw2 badgradeqw3 badgradeqw4 badgradeqw5 int3w2 int3w3 int3w4 int3w5 iemot1w2 iemot1w3 iemot1w4 iemot1w5 iemot2w2 iemot2w3 iemot2w4 iemot2w5 iemot3w2 iemot3w3 iemot3w4 iemot3w5 iemot4w2 iemot4w3 iemot4w4 iemot4w5 iemot5w2 iemot5w3 iemot5w4 iemot5w5 iemot7w2 iemot7w3 iemot7w4 iemot7w5 woact1 woact2 woact11 woact12 woact21 woact22 woact31 woact32 wcourserank1 woactrank1 woactrank2 wcourserank2 woactrank11 woactrank12 wcourserank3 woactrank21 woactrank22 wcourserank4 woactrank31 woactrank32 wcoursehrs1 woacthrs1 woacthrs2 wcoursehrs2 woacthrs11 woacthrs12 wcoursehrs3 woacthrs21 woacthrs22 wcoursehrs4 woacthrs31 woacthrs32 wcourseplan1 woactplan1 woactplan2 wcourseplan2 woactplan11 woactplan12 wcourseplan3 woactplan21 woactplan22 wcourseplan4 woactplan31 woactplan32 wcoursehrsx3 wcoursereg1 woactreg1 woactreg2 wcoursereg2 woactreg11 woactreg12 wcoursereg3 woactreg21 woactreg22 wcoursereg4 woactreg31 woactreg32 wcoursesat1 woactsat1 woactsat2 wcoursesat2 woactsat11 woactsat12 wcoursesat3 woactsat21 woactsat22 wcoursesat4 woactsat31 woactsat32 util1w2 util1w3 util1w4 util1w5 util4w2 util4w3 util4w4 util4w5 util5w2 util5w3 util5w4 util5w5'.split()"
   ]
  },
  {
   "cell_type": "code",
   "execution_count": 8,
   "metadata": {},
   "outputs": [],
   "source": [
    "df_week = df[\"Weekly\"]\n",
    "weekly_vars = defaultdict(lambda: defaultdict(set))\n",
    "for var in weekly_raw_vars:\n",
    "    week_suffix = re.findall(r'.*w(\\d+)', var)\n",
    "    if len(week_suffix) > 0:\n",
    "        weekly_vars[int(week_suffix[0])][df_week[df_week[\"Var\"] == var][\"Construct\"].tolist()[0]].add(var)\n",
    "    else:\n",
    "        con, label = df_week[df_week[\"Var\"] == var][[\"Construct\", \"Label\"]].values.tolist()[0]\n",
    "        week_label = re.findall(r'week (\\d+)', label)\n",
    "        if len(week_label) > 0:\n",
    "            week_from_var = int(re.findall(r'(\\d+)', var)[-1]) // 10 + 2 if \"oact\" in var else \\\n",
    "                            int(re.findall(r'(\\d+)', var)[-1]) + 1\n",
    "#             if week_from_var != int(week_label[0]):\n",
    "#                 print(var, label)\n",
    "            weekly_vars[week_from_var][con].add(var)\n",
    "        else:\n",
    "            print(var, con, label)  "
   ]
  },
  {
   "cell_type": "code",
   "execution_count": 9,
   "metadata": {},
   "outputs": [
    {
     "name": "stdout",
     "output_type": "stream",
     "text": [
      "2:  num construct - 16    num vars - 40\n",
      "[('Attainment Value', 1), ('Cost Value (Emotional)', 1), ('Cost Value (Loss of Valued Alternatives)', 1), ('Cost Value (Outside Effort)', 1), ('Grade Expectations - Course', 3), ('Grade Expectations - Midterm', 3), ('Grade Expectations - Quiz', 3), ('Interest Value', 1), ('Internal/External Motivation', 6), ('Other Activities', 2), ('Other Activities Rank', 3), ('Other Activities Time', 3), ('Plan for Completion', 3), ('Regret for Activity', 3), ('Satisfaction for Activity', 3), ('Utility Value', 3)]\n",
      "\n",
      "3:  num construct - 15    num vars - 37\n",
      "[('Attainment Value', 1), ('Cost Value (Emotional)', 1), ('Cost Value (Loss of Valued Alternatives)', 1), ('Cost Value (Outside Effort)', 1), ('Grade Expectations - Course', 3), ('Grade Expectations - Quiz', 3), ('Interest Value', 1), ('Internal/External Motivation', 6), ('Other Activities', 2), ('Other Activities Rank', 3), ('Other Activities Time', 3), ('Plan for Completion', 3), ('Regret for Activity', 3), ('Satisfaction for Activity', 3), ('Utility Value', 3)]\n",
      "\n",
      "4:  num construct - 17    num vars - 41\n",
      "[('Attainment Value', 1), ('Cost Value (Emotional)', 1), ('Cost Value (Loss of Valued Alternatives)', 1), ('Cost Value (Outside Effort)', 1), ('Grade Expectations - Course', 3), ('Grade Expectations - Final', 3), ('Grade Expectations - Quiz', 3), ('Interest Value', 1), ('Internal/External Motivation', 6), ('Other Activities', 2), ('Other Activities Rank', 3), ('Other Activities Time', 3), ('Plan for Completion', 3), ('Reflected Other Activities Time', 1), ('Regret for Activity', 3), ('Satisfaction for Activity', 3), ('Utility Value', 3)]\n",
      "\n",
      "5:  num construct - 16    num vars - 40\n",
      "[('Attainment Value', 1), ('Cost Value (Emotional)', 1), ('Cost Value (Loss of Valued Alternatives)', 1), ('Cost Value (Outside Effort)', 1), ('Grade Expectations - Course', 3), ('Grade Expectations - Final', 3), ('Grade Expectations - Quiz', 3), ('Interest Value', 1), ('Internal/External Motivation', 6), ('Other Activities', 2), ('Other Activities Rank', 3), ('Other Activities Time', 3), ('Plan for Completion', 3), ('Regret for Activity', 3), ('Satisfaction for Activity', 3), ('Utility Value', 3)]\n",
      "\n"
     ]
    }
   ],
   "source": [
    "for w in weekly_vars:\n",
    "    print(\"{}:  num construct - {}    num vars - {}\\n{}\\n\".format(\n",
    "        w, len(weekly_vars[w]), len([k for v in weekly_vars[w] for k in weekly_vars[w][v]]), \n",
    "        [(v, len(weekly_vars[w][v])) for v in weekly_vars[w]]))\n",
    "#     print([k for v in weekly_vars[w] for k in weekly_vars[w][v]])\n",
    "#     print()"
   ]
  },
  {
   "cell_type": "code",
   "execution_count": 11,
   "metadata": {},
   "outputs": [],
   "source": [
    "train_var_map = {}\n",
    "train_var_map[\"week_1\"] = dict(pre_post_vars[\"pre\"])\n",
    "for i in range(2, 6):\n",
    "    train_var_map[\"week_{}\".format(i)] = dict(weekly_vars[int(i)])\n",
    "train_var_map[\"post\"] = dict(pre_post_vars[\"post\"])"
   ]
  },
  {
   "cell_type": "code",
   "execution_count": 14,
   "metadata": {},
   "outputs": [],
   "source": [
    "# save_object(train_var_map, \"../data/var_map.pkl\")"
   ]
  },
  {
   "cell_type": "code",
   "execution_count": null,
   "metadata": {},
   "outputs": [],
   "source": []
  },
  {
   "cell_type": "code",
   "execution_count": null,
   "metadata": {},
   "outputs": [],
   "source": []
  },
  {
   "cell_type": "code",
   "execution_count": null,
   "metadata": {},
   "outputs": [],
   "source": []
  },
  {
   "cell_type": "code",
   "execution_count": null,
   "metadata": {},
   "outputs": [],
   "source": []
  },
  {
   "cell_type": "code",
   "execution_count": null,
   "metadata": {},
   "outputs": [],
   "source": []
  },
  {
   "cell_type": "code",
   "execution_count": null,
   "metadata": {},
   "outputs": [],
   "source": []
  },
  {
   "cell_type": "code",
   "execution_count": null,
   "metadata": {},
   "outputs": [],
   "source": []
  }
 ],
 "metadata": {
  "kernelspec": {
   "display_name": "Python 3",
   "language": "python",
   "name": "python3"
  },
  "language_info": {
   "codemirror_mode": {
    "name": "ipython",
    "version": 3
   },
   "file_extension": ".py",
   "mimetype": "text/x-python",
   "name": "python",
   "nbconvert_exporter": "python",
   "pygments_lexer": "ipython3",
   "version": "3.6.4"
  }
 },
 "nbformat": 4,
 "nbformat_minor": 2
}
