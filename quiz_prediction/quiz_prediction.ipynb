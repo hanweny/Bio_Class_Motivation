{
 "cells": [
  {
   "cell_type": "markdown",
   "metadata": {},
   "source": [
    "## Naive LR on all selected variables\n",
    "- Used all selected var from VAR MAP\n",
    "- Filled NA with mean"
   ]
  },
  {
   "cell_type": "code",
   "execution_count": 6,
   "metadata": {},
   "outputs": [],
   "source": [
    "import sys, os\n",
    "DMOL_DIR = \"/Users/Henryye/research/shaf/DMOL\"\n",
    "sys.path.append(os.path.join(DMOL_DIR, \"utils\"))\n",
    "\n",
    "from ml_utils import *\n",
    "\n",
    "\n",
    "import numpy as np\n",
    "import pandas as pd\n",
    "import math\n",
    "pd.options.display.max_columns = 999\n",
    "\n",
    "import matplotlib.pyplot as plt\n",
    "\n",
    "from sklearn.linear_model import LinearRegression, Lasso\n",
    "from sklearn.model_selection import train_test_split\n",
    "from sklearn.metrics import mean_squared_error, mean_absolute_error, r2_score\n",
    "from sklearn.decomposition import PCA\n",
    "from sklearn.preprocessing import StandardScaler\n",
    "\n",
    "import warnings\n",
    "warnings.filterwarnings('ignore')"
   ]
  },
  {
   "cell_type": "code",
   "execution_count": 2,
   "metadata": {},
   "outputs": [],
   "source": [
    "df = pd.read_csv(\"../data/class_data.csv\")\n",
    "df_proc = preprocess_df(df, verbose = False)"
   ]
  },
  {
   "cell_type": "code",
   "execution_count": 17,
   "metadata": {},
   "outputs": [],
   "source": [
    "def get_metrics(y_true, y_pred, k):\n",
    "    print(\"MSE:  {}\".format(mean_squared_error(y_true, y_pred)))\n",
    "    print(\"MAE:  {}\".format(mean_absolute_error(y_true, y_pred)))\n",
    "    R = r2_score(y_true, y_pred)\n",
    "    n = len(y_true)\n",
    "    adjR = 1 - (1-R**2)*(n-1) / (n-k-1)\n",
    "    print(\"r-squared:  {}\".format(R))\n",
    "#     print(\"Adjusted r-squared:  {}\".format(adjR))\n",
    "    \n",
    "def plot_results(y_true, y_pred):\n",
    "    plt.figure(figsize = (8, 3))\n",
    "    plt.scatter(y_true, y_pred)\n",
    "    plt.plot(np.linspace(min(y_true), max(y_true)), np.linspace(min(y_true), max(y_true)), '-r')\n",
    "    plt.xlabel(\"y true\", fontsize = 12)\n",
    "    plt.ylabel(\"y pred\", fontsize = 12)\n",
    "    plt.show()\n",
    "    \n",
    "def construct_X(df, var_map_curr, n_comp = None, verbose = False):\n",
    "    X = pd.DataFrame()\n",
    "    pca = PCA(n_components=n_comp) if n_comp is not None else None\n",
    "    for construct in var_map_curr[\"Quant\"]:\n",
    "        temp = df[var_map_curr[\"Quant\"][construct]].copy()\n",
    "        temp = temp.fillna(temp.mode().iloc[0])\n",
    "        if n_comp is None:\n",
    "            temp_mean = pd.DataFrame(temp.mean(axis=1))\n",
    "            temp_mean.columns = [\"{}_mean\".format(construct)]\n",
    "            X = pd.concat([X, temp_mean], axis = 1)\n",
    "        else:\n",
    "            if len(var_map_curr[\"Quant\"][construct]) < n_comp:\n",
    "                X = pd.concat([X, temp.copy()], axis = 1)\n",
    "            else:\n",
    "                temp_pca = pd.DataFrame(pca.fit_transform(temp))\n",
    "                temp_pca.columns = [\"{}_PC{}\".format(construct, i) for i in range(1, n_comp+1)]\n",
    "                X = pd.concat([X, temp_pca], axis = 1)\n",
    "                pca_coeff_df = pd.DataFrame(pca.components_)\n",
    "                pca_coeff_df.columns = list(var_map_curr[\"Quant\"][construct])\n",
    "                pca_coeff_df.index = [\"PC {}\".format(i) for i in range(1, n_comp+1)]\n",
    "                display(pca_coeff_df)\n",
    "                if verbose:\n",
    "                    print(\"{} variance explained:\\n{}\\n\".format(construct, pca.explained_variance_ratio_))\n",
    "    return X\n",
    "\n",
    "def train_model(df, week_num, n_comp = None, use_fr = False, plot = False, verbose = False):\n",
    "    var_map_curr = NEW_VAR_MAP[\"week_{}\".format(week_num)]\n",
    "    X, y = construct_X(df, var_map_curr, n_comp, verbose), df[\"gr_revq{}\".format(week_num)]\n",
    "    for gr in [\"gr_revq{}\".format(i) for i in range(max(1, week_num-1), week_num)]:\n",
    "        X[gr] = df[gr]\n",
    "    print(X.shape)\n",
    "    X_train, X_test, y_train, y_test = train_test_split(X, y, test_size = 0.2, random_state = 42)\n",
    "#     reg = LinearRegression().fit(X_train, y_train)\n",
    "    reg = Lasso(alpha=0.5).fit(X_train, y_train)\n",
    "    print(\"Training Score:  \")\n",
    "    y_train_pred = reg.predict(X_train)\n",
    "    get_metrics(y_train, y_train_pred, X_train.shape[1])\n",
    "    print('\\n')\n",
    "    print(\"Testing Score:   \")\n",
    "    y_test_pred = reg.predict(X_test)\n",
    "    get_metrics(y_test, y_test_pred, X_test.shape[1])\n",
    "    \n",
    "    if plot:\n",
    "        print(\"Training plots:  \")\n",
    "        plot_results(y_train, y_train_pred)\n",
    "        print(\"Testing plots：  \")\n",
    "        plot_results(y_test, y_test_pred)"
   ]
  },
  {
   "cell_type": "code",
   "execution_count": null,
   "metadata": {},
   "outputs": [],
   "source": []
  },
  {
   "cell_type": "code",
   "execution_count": 18,
   "metadata": {},
   "outputs": [
    {
     "name": "stdout",
     "output_type": "stream",
     "text": [
      "Week 1\n",
      "(99, 21)\n",
      "Training Score:  \n",
      "MSE:  22.858340677813466\n",
      "MAE:  3.428358148644369\n",
      "r-squared:  0.24876827714463468\n",
      "\n",
      "\n",
      "Testing Score:   \n",
      "MSE:  32.41447545326601\n",
      "MAE:  4.362990869205855\n",
      "r-squared:  -0.05147921347063544\n",
      "Training plots:  \n"
     ]
    },
    {
     "data": {
      "image/png": "[encoded data removed]",
      "text/plain": [
       "<Figure size 576x216 with 1 Axes>"
      ]
     },
     "metadata": {
      "needs_background": "light"
     },
     "output_type": "display_data"
    },
    {
     "name": "stdout",
     "output_type": "stream",
     "text": [
      "Testing plots：  \n"
     ]
    },
    {
     "data": {
      "image/png": "[encoded data removed]",
      "text/plain": [
       "<Figure size 576x216 with 1 Axes>"
      ]
     },
     "metadata": {
      "needs_background": "light"
     },
     "output_type": "display_data"
    },
    {
     "name": "stdout",
     "output_type": "stream",
     "text": [
      "\n",
      "\n",
      "\n",
      "Week 2\n",
      "(99, 16)\n",
      "Training Score:  \n",
      "MSE:  23.01927937668859\n",
      "MAE:  3.256610834650382\n",
      "r-squared:  0.3089388392311557\n",
      "\n",
      "\n",
      "Testing Score:   \n",
      "MSE:  34.01654718569748\n",
      "MAE:  4.089362176689788\n",
      "r-squared:  0.20055118247479475\n",
      "Training plots:  \n"
     ]
    },
    {
     "data": {
      "image/png": "[encoded data removed]",
      "text/plain": [
       "<Figure size 576x216 with 1 Axes>"
      ]
     },
     "metadata": {
      "needs_background": "light"
     },
     "output_type": "display_data"
    },
    {
     "name": "stdout",
     "output_type": "stream",
     "text": [
      "Testing plots：  \n"
     ]
    },
    {
     "data": {
      "image/png": "[encoded data removed]",
      "text/plain": [
       "<Figure size 576x216 with 1 Axes>"
      ]
     },
     "metadata": {
      "needs_background": "light"
     },
     "output_type": "display_data"
    },
    {
     "name": "stdout",
     "output_type": "stream",
     "text": [
      "\n",
      "\n",
      "\n",
      "Week 3\n",
      "(99, 15)\n",
      "Training Score:  \n",
      "MSE:  11.105409697357985\n",
      "MAE:  2.540066482613028\n",
      "r-squared:  0.6226692766781112\n",
      "\n",
      "\n",
      "Testing Score:   \n",
      "MSE:  41.55987826464713\n",
      "MAE:  4.4823244936135564\n",
      "r-squared:  0.01610136684074026\n",
      "Training plots:  \n"
     ]
    },
    {
     "data": {
      "image/png": "[encoded data removed]",
      "text/plain": [
       "<Figure size 576x216 with 1 Axes>"
      ]
     },
     "metadata": {
      "needs_background": "light"
     },
     "output_type": "display_data"
    },
    {
     "name": "stdout",
     "output_type": "stream",
     "text": [
      "Testing plots：  \n"
     ]
    },
    {
     "data": {
      "image/png": "[encoded data removed]",
      "text/plain": [
       "<Figure size 576x216 with 1 Axes>"
      ]
     },
     "metadata": {
      "needs_background": "light"
     },
     "output_type": "display_data"
    },
    {
     "name": "stdout",
     "output_type": "stream",
     "text": [
      "\n",
      "\n",
      "\n",
      "Week 4\n",
      "(99, 17)\n",
      "Training Score:  \n",
      "MSE:  9.95146720646698\n",
      "MAE:  2.437772627524034\n",
      "r-squared:  0.6893153371840464\n",
      "\n",
      "\n",
      "Testing Score:   \n",
      "MSE:  34.71606923355292\n",
      "MAE:  3.975580699930449\n",
      "r-squared:  0.032641748977975005\n",
      "Training plots:  \n"
     ]
    },
    {
     "data": {
      "image/png": "[encoded data removed]",
      "text/plain": [
       "<Figure size 576x216 with 1 Axes>"
      ]
     },
     "metadata": {
      "needs_background": "light"
     },
     "output_type": "display_data"
    },
    {
     "name": "stdout",
     "output_type": "stream",
     "text": [
      "Testing plots：  \n"
     ]
    },
    {
     "data": {
      "image/png": "[encoded data removed]",
      "text/plain": [
       "<Figure size 576x216 with 1 Axes>"
      ]
     },
     "metadata": {
      "needs_background": "light"
     },
     "output_type": "display_data"
    },
    {
     "name": "stdout",
     "output_type": "stream",
     "text": [
      "\n",
      "\n",
      "\n",
      "Week 5\n",
      "(99, 16)\n",
      "Training Score:  \n",
      "MSE:  15.03667075700051\n",
      "MAE:  2.425601340356312\n",
      "r-squared:  0.6388842884403083\n",
      "\n",
      "\n",
      "Testing Score:   \n",
      "MSE:  29.194196655116276\n",
      "MAE:  3.740229641331813\n",
      "r-squared:  0.40794571780336086\n",
      "Training plots:  \n"
     ]
    },
    {
     "data": {
      "image/png": "[encoded data removed]",
      "text/plain": [
       "<Figure size 576x216 with 1 Axes>"
      ]
     },
     "metadata": {
      "needs_background": "light"
     },
     "output_type": "display_data"
    },
    {
     "name": "stdout",
     "output_type": "stream",
     "text": [
      "Testing plots：  \n"
     ]
    },
    {
     "data": {
      "image/png": "[encoded data removed]",
      "text/plain": [
       "<Figure size 576x216 with 1 Axes>"
      ]
     },
     "metadata": {
      "needs_background": "light"
     },
     "output_type": "display_data"
    },
    {
     "name": "stdout",
     "output_type": "stream",
     "text": [
      "\n",
      "\n",
      "\n"
     ]
    }
   ],
   "source": [
    "# using the mean\n",
    "for week_num in range(1, 6):\n",
    "    print(\"Week {}\".format(week_num))\n",
    "    train_model(df_proc, week_num, use_fr = False, plot = True, verbose = True)\n",
    "    print('\\n\\n')"
   ]
  },
  {
   "cell_type": "code",
   "execution_count": 20,
   "metadata": {},
   "outputs": [
    {
     "name": "stdout",
     "output_type": "stream",
     "text": [
      "Week 1\n"
     ]
    },
    {
     "data": {
      "text/html": [
       "<div>\n",
       "<style scoped>\n",
       "    .dataframe tbody tr th:only-of-type {\n",
       "        vertical-align: middle;\n",
       "    }\n",
       "\n",
       "    .dataframe tbody tr th {\n",
       "        vertical-align: top;\n",
       "    }\n",
       "\n",
       "    .dataframe thead th {\n",
       "        text-align: right;\n",
       "    }\n",
       "</style>\n",
       "<table border=\"1\" class=\"dataframe\">\n",
       "  <thead>\n",
       "    <tr style=\"text-align: right;\">\n",
       "      <th></th>\n",
       "      <th>pre_er4</th>\n",
       "      <th>pre_er1</th>\n",
       "      <th>pre_er7x</th>\n",
       "      <th>pre_er3</th>\n",
       "      <th>pre_er2</th>\n",
       "      <th>pre_er8x</th>\n",
       "    </tr>\n",
       "  </thead>\n",
       "  <tbody>\n",
       "    <tr>\n",
       "      <th>PC 1</th>\n",
       "      <td>-0.466354</td>\n",
       "      <td>0.296450</td>\n",
       "      <td>-0.447115</td>\n",
       "      <td>0.403775</td>\n",
       "      <td>-0.380186</td>\n",
       "      <td>-0.432601</td>\n",
       "    </tr>\n",
       "    <tr>\n",
       "      <th>PC 2</th>\n",
       "      <td>-0.189667</td>\n",
       "      <td>-0.642650</td>\n",
       "      <td>-0.353197</td>\n",
       "      <td>-0.569953</td>\n",
       "      <td>-0.274367</td>\n",
       "      <td>-0.161729</td>\n",
       "    </tr>\n",
       "    <tr>\n",
       "      <th>PC 3</th>\n",
       "      <td>-0.762552</td>\n",
       "      <td>0.067954</td>\n",
       "      <td>0.366344</td>\n",
       "      <td>-0.124083</td>\n",
       "      <td>-0.137808</td>\n",
       "      <td>0.495278</td>\n",
       "    </tr>\n",
       "    <tr>\n",
       "      <th>PC 4</th>\n",
       "      <td>-0.144741</td>\n",
       "      <td>0.493784</td>\n",
       "      <td>-0.478678</td>\n",
       "      <td>-0.483856</td>\n",
       "      <td>0.514476</td>\n",
       "      <td>0.085394</td>\n",
       "    </tr>\n",
       "    <tr>\n",
       "      <th>PC 5</th>\n",
       "      <td>-0.137694</td>\n",
       "      <td>0.183055</td>\n",
       "      <td>0.557646</td>\n",
       "      <td>-0.349504</td>\n",
       "      <td>0.093737</td>\n",
       "      <td>-0.711071</td>\n",
       "    </tr>\n",
       "  </tbody>\n",
       "</table>\n",
       "</div>"
      ],
      "text/plain": [
       "       pre_er4   pre_er1  pre_er7x   pre_er3   pre_er2  pre_er8x\n",
       "PC 1 -0.466354  0.296450 -0.447115  0.403775 -0.380186 -0.432601\n",
       "PC 2 -0.189667 -0.642650 -0.353197 -0.569953 -0.274367 -0.161729\n",
       "PC 3 -0.762552  0.067954  0.366344 -0.124083 -0.137808  0.495278\n",
       "PC 4 -0.144741  0.493784 -0.478678 -0.483856  0.514476  0.085394\n",
       "PC 5 -0.137694  0.183055  0.557646 -0.349504  0.093737 -0.711071"
      ]
     },
     "metadata": {},
     "output_type": "display_data"
    },
    {
     "name": "stdout",
     "output_type": "stream",
     "text": [
      "Effort Regulation variance explained:\n",
      "[0.51532837 0.20068421 0.09847981 0.07815909 0.0671039 ]\n",
      "\n"
     ]
    },
    {
     "data": {
      "text/html": [
       "<div>\n",
       "<style scoped>\n",
       "    .dataframe tbody tr th:only-of-type {\n",
       "        vertical-align: middle;\n",
       "    }\n",
       "\n",
       "    .dataframe tbody tr th {\n",
       "        vertical-align: top;\n",
       "    }\n",
       "\n",
       "    .dataframe thead th {\n",
       "        text-align: right;\n",
       "    }\n",
       "</style>\n",
       "<table border=\"1\" class=\"dataframe\">\n",
       "  <thead>\n",
       "    <tr style=\"text-align: right;\">\n",
       "      <th></th>\n",
       "      <th>pre_iemot1</th>\n",
       "      <th>pre_iemot5</th>\n",
       "      <th>pre_iemot3</th>\n",
       "      <th>pre_iemot2</th>\n",
       "      <th>pre_iemot4</th>\n",
       "      <th>pre_iemot7</th>\n",
       "      <th>pre_iemot6</th>\n",
       "    </tr>\n",
       "  </thead>\n",
       "  <tbody>\n",
       "    <tr>\n",
       "      <th>PC 1</th>\n",
       "      <td>-0.353561</td>\n",
       "      <td>-0.437437</td>\n",
       "      <td>-0.348059</td>\n",
       "      <td>-0.394544</td>\n",
       "      <td>-0.306957</td>\n",
       "      <td>-0.411811</td>\n",
       "      <td>-0.378183</td>\n",
       "    </tr>\n",
       "    <tr>\n",
       "      <th>PC 2</th>\n",
       "      <td>0.460045</td>\n",
       "      <td>-0.044835</td>\n",
       "      <td>0.503532</td>\n",
       "      <td>0.243271</td>\n",
       "      <td>-0.114745</td>\n",
       "      <td>-0.518769</td>\n",
       "      <td>-0.437419</td>\n",
       "    </tr>\n",
       "    <tr>\n",
       "      <th>PC 3</th>\n",
       "      <td>-0.194307</td>\n",
       "      <td>0.044947</td>\n",
       "      <td>0.001978</td>\n",
       "      <td>0.481936</td>\n",
       "      <td>-0.724397</td>\n",
       "      <td>0.395041</td>\n",
       "      <td>-0.217142</td>\n",
       "    </tr>\n",
       "    <tr>\n",
       "      <th>PC 4</th>\n",
       "      <td>0.433591</td>\n",
       "      <td>-0.559904</td>\n",
       "      <td>0.267132</td>\n",
       "      <td>-0.397986</td>\n",
       "      <td>-0.275226</td>\n",
       "      <td>0.378794</td>\n",
       "      <td>0.222532</td>\n",
       "    </tr>\n",
       "    <tr>\n",
       "      <th>PC 5</th>\n",
       "      <td>0.053186</td>\n",
       "      <td>0.678475</td>\n",
       "      <td>0.162926</td>\n",
       "      <td>-0.621623</td>\n",
       "      <td>-0.284848</td>\n",
       "      <td>0.079199</td>\n",
       "      <td>-0.190976</td>\n",
       "    </tr>\n",
       "  </tbody>\n",
       "</table>\n",
       "</div>"
      ],
      "text/plain": [
       "      pre_iemot1  pre_iemot5  pre_iemot3  pre_iemot2  pre_iemot4  pre_iemot7  \\\n",
       "PC 1   -0.353561   -0.437437   -0.348059   -0.394544   -0.306957   -0.411811   \n",
       "PC 2    0.460045   -0.044835    0.503532    0.243271   -0.114745   -0.518769   \n",
       "PC 3   -0.194307    0.044947    0.001978    0.481936   -0.724397    0.395041   \n",
       "PC 4    0.433591   -0.559904    0.267132   -0.397986   -0.275226    0.378794   \n",
       "PC 5    0.053186    0.678475    0.162926   -0.621623   -0.284848    0.079199   \n",
       "\n",
       "      pre_iemot6  \n",
       "PC 1   -0.378183  \n",
       "PC 2   -0.437419  \n",
       "PC 3   -0.217142  \n",
       "PC 4    0.222532  \n",
       "PC 5   -0.190976  "
      ]
     },
     "metadata": {},
     "output_type": "display_data"
    },
    {
     "name": "stdout",
     "output_type": "stream",
     "text": [
      "Internal/External Motivation variance explained:\n",
      "[0.45190891 0.25270204 0.09972126 0.07703855 0.05760133]\n",
      "\n"
     ]
    },
    {
     "data": {
      "text/html": [
       "<div>\n",
       "<style scoped>\n",
       "    .dataframe tbody tr th:only-of-type {\n",
       "        vertical-align: middle;\n",
       "    }\n",
       "\n",
       "    .dataframe tbody tr th {\n",
       "        vertical-align: top;\n",
       "    }\n",
       "\n",
       "    .dataframe thead th {\n",
       "        text-align: right;\n",
       "    }\n",
       "</style>\n",
       "<table border=\"1\" class=\"dataframe\">\n",
       "  <thead>\n",
       "    <tr style=\"text-align: right;\">\n",
       "      <th></th>\n",
       "      <th>pre_orsh4</th>\n",
       "      <th>pre_olsrl3</th>\n",
       "      <th>pre_orsh5</th>\n",
       "      <th>pre_olsrl4</th>\n",
       "      <th>pre_orsh3</th>\n",
       "      <th>pre_orsh1</th>\n",
       "      <th>pre_olsrl2</th>\n",
       "      <th>pre_orsh6</th>\n",
       "      <th>pre_olsrl1</th>\n",
       "      <th>pre_orsh2</th>\n",
       "      <th>pre_orsh7</th>\n",
       "      <th>pre_olsrl5</th>\n",
       "    </tr>\n",
       "  </thead>\n",
       "  <tbody>\n",
       "    <tr>\n",
       "      <th>PC 1</th>\n",
       "      <td>-0.019996</td>\n",
       "      <td>0.458553</td>\n",
       "      <td>-0.050857</td>\n",
       "      <td>0.517379</td>\n",
       "      <td>-0.058967</td>\n",
       "      <td>-0.134914</td>\n",
       "      <td>0.497014</td>\n",
       "      <td>-0.111039</td>\n",
       "      <td>-0.207228</td>\n",
       "      <td>-0.124851</td>\n",
       "      <td>-0.040660</td>\n",
       "      <td>0.421718</td>\n",
       "    </tr>\n",
       "    <tr>\n",
       "      <th>PC 2</th>\n",
       "      <td>-0.263959</td>\n",
       "      <td>-0.262856</td>\n",
       "      <td>-0.227498</td>\n",
       "      <td>-0.065506</td>\n",
       "      <td>-0.291831</td>\n",
       "      <td>-0.269071</td>\n",
       "      <td>0.056742</td>\n",
       "      <td>-0.377179</td>\n",
       "      <td>-0.418098</td>\n",
       "      <td>-0.252136</td>\n",
       "      <td>-0.425266</td>\n",
       "      <td>-0.287938</td>\n",
       "    </tr>\n",
       "    <tr>\n",
       "      <th>PC 3</th>\n",
       "      <td>-0.233057</td>\n",
       "      <td>0.460057</td>\n",
       "      <td>-0.137395</td>\n",
       "      <td>-0.407921</td>\n",
       "      <td>-0.270122</td>\n",
       "      <td>0.204867</td>\n",
       "      <td>-0.104715</td>\n",
       "      <td>-0.137343</td>\n",
       "      <td>0.461286</td>\n",
       "      <td>-0.246040</td>\n",
       "      <td>-0.291843</td>\n",
       "      <td>0.213303</td>\n",
       "    </tr>\n",
       "    <tr>\n",
       "      <th>PC 4</th>\n",
       "      <td>-0.313182</td>\n",
       "      <td>0.424128</td>\n",
       "      <td>-0.026355</td>\n",
       "      <td>-0.140998</td>\n",
       "      <td>0.004024</td>\n",
       "      <td>0.095039</td>\n",
       "      <td>0.359569</td>\n",
       "      <td>0.060198</td>\n",
       "      <td>-0.080438</td>\n",
       "      <td>0.457878</td>\n",
       "      <td>0.098470</td>\n",
       "      <td>-0.577648</td>\n",
       "    </tr>\n",
       "    <tr>\n",
       "      <th>PC 5</th>\n",
       "      <td>-0.251921</td>\n",
       "      <td>-0.080041</td>\n",
       "      <td>-0.220865</td>\n",
       "      <td>-0.219632</td>\n",
       "      <td>-0.369452</td>\n",
       "      <td>0.153273</td>\n",
       "      <td>-0.174282</td>\n",
       "      <td>0.065000</td>\n",
       "      <td>-0.428743</td>\n",
       "      <td>0.364564</td>\n",
       "      <td>0.323185</td>\n",
       "      <td>0.466205</td>\n",
       "    </tr>\n",
       "  </tbody>\n",
       "</table>\n",
       "</div>"
      ],
      "text/plain": [
       "      pre_orsh4  pre_olsrl3  pre_orsh5  pre_olsrl4  pre_orsh3  pre_orsh1  \\\n",
       "PC 1  -0.019996    0.458553  -0.050857    0.517379  -0.058967  -0.134914   \n",
       "PC 2  -0.263959   -0.262856  -0.227498   -0.065506  -0.291831  -0.269071   \n",
       "PC 3  -0.233057    0.460057  -0.137395   -0.407921  -0.270122   0.204867   \n",
       "PC 4  -0.313182    0.424128  -0.026355   -0.140998   0.004024   0.095039   \n",
       "PC 5  -0.251921   -0.080041  -0.220865   -0.219632  -0.369452   0.153273   \n",
       "\n",
       "      pre_olsrl2  pre_orsh6  pre_olsrl1  pre_orsh2  pre_orsh7  pre_olsrl5  \n",
       "PC 1    0.497014  -0.111039   -0.207228  -0.124851  -0.040660    0.421718  \n",
       "PC 2    0.056742  -0.377179   -0.418098  -0.252136  -0.425266   -0.287938  \n",
       "PC 3   -0.104715  -0.137343    0.461286  -0.246040  -0.291843    0.213303  \n",
       "PC 4    0.359569   0.060198   -0.080438   0.457878   0.098470   -0.577648  \n",
       "PC 5   -0.174282   0.065000   -0.428743   0.364564   0.323185    0.466205  "
      ]
     },
     "metadata": {},
     "output_type": "display_data"
    },
    {
     "name": "stdout",
     "output_type": "stream",
     "text": [
      "Online Self Regulation variance explained:\n",
      "[0.39059771 0.16848129 0.08591681 0.07046449 0.06260405]\n",
      "\n"
     ]
    },
    {
     "data": {
      "text/html": [
       "<div>\n",
       "<style scoped>\n",
       "    .dataframe tbody tr th:only-of-type {\n",
       "        vertical-align: middle;\n",
       "    }\n",
       "\n",
       "    .dataframe tbody tr th {\n",
       "        vertical-align: top;\n",
       "    }\n",
       "\n",
       "    .dataframe thead th {\n",
       "        text-align: right;\n",
       "    }\n",
       "</style>\n",
       "<table border=\"1\" class=\"dataframe\">\n",
       "  <thead>\n",
       "    <tr style=\"text-align: right;\">\n",
       "      <th></th>\n",
       "      <th>pre_latitude</th>\n",
       "      <th>pre_duration</th>\n",
       "      <th>pre_progress</th>\n",
       "      <th>pre_longitude</th>\n",
       "      <th>pre_finished</th>\n",
       "    </tr>\n",
       "  </thead>\n",
       "  <tbody>\n",
       "    <tr>\n",
       "      <th>PC 1</th>\n",
       "      <td>-0.000006</td>\n",
       "      <td>1.000000e+00</td>\n",
       "      <td>0.0</td>\n",
       "      <td>-7.196128e-08</td>\n",
       "      <td>0.0</td>\n",
       "    </tr>\n",
       "    <tr>\n",
       "      <th>PC 2</th>\n",
       "      <td>-0.018019</td>\n",
       "      <td>-4.441161e-08</td>\n",
       "      <td>-0.0</td>\n",
       "      <td>9.998376e-01</td>\n",
       "      <td>-0.0</td>\n",
       "    </tr>\n",
       "    <tr>\n",
       "      <th>PC 3</th>\n",
       "      <td>0.999838</td>\n",
       "      <td>6.457982e-06</td>\n",
       "      <td>0.0</td>\n",
       "      <td>1.801889e-02</td>\n",
       "      <td>-0.0</td>\n",
       "    </tr>\n",
       "    <tr>\n",
       "      <th>PC 4</th>\n",
       "      <td>0.000000</td>\n",
       "      <td>0.000000e+00</td>\n",
       "      <td>0.0</td>\n",
       "      <td>0.000000e+00</td>\n",
       "      <td>1.0</td>\n",
       "    </tr>\n",
       "    <tr>\n",
       "      <th>PC 5</th>\n",
       "      <td>-0.000000</td>\n",
       "      <td>-0.000000e+00</td>\n",
       "      <td>1.0</td>\n",
       "      <td>-0.000000e+00</td>\n",
       "      <td>-0.0</td>\n",
       "    </tr>\n",
       "  </tbody>\n",
       "</table>\n",
       "</div>"
      ],
      "text/plain": [
       "      pre_latitude  pre_duration  pre_progress  pre_longitude  pre_finished\n",
       "PC 1     -0.000006  1.000000e+00           0.0  -7.196128e-08           0.0\n",
       "PC 2     -0.018019 -4.441161e-08          -0.0   9.998376e-01          -0.0\n",
       "PC 3      0.999838  6.457982e-06           0.0   1.801889e-02          -0.0\n",
       "PC 4      0.000000  0.000000e+00           0.0   0.000000e+00           1.0\n",
       "PC 5     -0.000000 -0.000000e+00           1.0  -0.000000e+00          -0.0"
      ]
     },
     "metadata": {},
     "output_type": "display_data"
    },
    {
     "name": "stdout",
     "output_type": "stream",
     "text": [
      "Qualtrics Embedded Data variance explained:\n",
      "[9.99997977e-01 2.01955002e-06 3.84607221e-09 0.00000000e+00\n",
      " 0.00000000e+00]\n",
      "\n"
     ]
    },
    {
     "data": {
      "text/html": [
       "<div>\n",
       "<style scoped>\n",
       "    .dataframe tbody tr th:only-of-type {\n",
       "        vertical-align: middle;\n",
       "    }\n",
       "\n",
       "    .dataframe tbody tr th {\n",
       "        vertical-align: top;\n",
       "    }\n",
       "\n",
       "    .dataframe thead th {\n",
       "        text-align: right;\n",
       "    }\n",
       "</style>\n",
       "<table border=\"1\" class=\"dataframe\">\n",
       "  <thead>\n",
       "    <tr style=\"text-align: right;\">\n",
       "      <th></th>\n",
       "      <th>pre_se1</th>\n",
       "      <th>pre_se4</th>\n",
       "      <th>pre_se5</th>\n",
       "      <th>pre_se2</th>\n",
       "      <th>pre_se3</th>\n",
       "    </tr>\n",
       "  </thead>\n",
       "  <tbody>\n",
       "    <tr>\n",
       "      <th>PC 1</th>\n",
       "      <td>-0.457358</td>\n",
       "      <td>-0.472852</td>\n",
       "      <td>-0.468598</td>\n",
       "      <td>-0.461326</td>\n",
       "      <td>-0.367190</td>\n",
       "    </tr>\n",
       "    <tr>\n",
       "      <th>PC 2</th>\n",
       "      <td>-0.582709</td>\n",
       "      <td>0.310979</td>\n",
       "      <td>0.384741</td>\n",
       "      <td>-0.477077</td>\n",
       "      <td>0.433722</td>\n",
       "    </tr>\n",
       "    <tr>\n",
       "      <th>PC 3</th>\n",
       "      <td>0.392192</td>\n",
       "      <td>-0.449572</td>\n",
       "      <td>-0.209879</td>\n",
       "      <td>-0.287374</td>\n",
       "      <td>0.719331</td>\n",
       "    </tr>\n",
       "    <tr>\n",
       "      <th>PC 4</th>\n",
       "      <td>0.538701</td>\n",
       "      <td>0.355935</td>\n",
       "      <td>0.050058</td>\n",
       "      <td>-0.686392</td>\n",
       "      <td>-0.330865</td>\n",
       "    </tr>\n",
       "    <tr>\n",
       "      <th>PC 5</th>\n",
       "      <td>-0.085212</td>\n",
       "      <td>0.592367</td>\n",
       "      <td>-0.765399</td>\n",
       "      <td>0.076536</td>\n",
       "      <td>0.223936</td>\n",
       "    </tr>\n",
       "  </tbody>\n",
       "</table>\n",
       "</div>"
      ],
      "text/plain": [
       "       pre_se1   pre_se4   pre_se5   pre_se2   pre_se3\n",
       "PC 1 -0.457358 -0.472852 -0.468598 -0.461326 -0.367190\n",
       "PC 2 -0.582709  0.310979  0.384741 -0.477077  0.433722\n",
       "PC 3  0.392192 -0.449572 -0.209879 -0.287374  0.719331\n",
       "PC 4  0.538701  0.355935  0.050058 -0.686392 -0.330865\n",
       "PC 5 -0.085212  0.592367 -0.765399  0.076536  0.223936"
      ]
     },
     "metadata": {},
     "output_type": "display_data"
    },
    {
     "name": "stdout",
     "output_type": "stream",
     "text": [
      "Self-Efficacy variance explained:\n",
      "[0.79559694 0.08932638 0.0496603  0.04031406 0.02510232]\n",
      "\n"
     ]
    },
    {
     "data": {
      "text/html": [
       "<div>\n",
       "<style scoped>\n",
       "    .dataframe tbody tr th:only-of-type {\n",
       "        vertical-align: middle;\n",
       "    }\n",
       "\n",
       "    .dataframe tbody tr th {\n",
       "        vertical-align: top;\n",
       "    }\n",
       "\n",
       "    .dataframe thead th {\n",
       "        text-align: right;\n",
       "    }\n",
       "</style>\n",
       "<table border=\"1\" class=\"dataframe\">\n",
       "  <thead>\n",
       "    <tr style=\"text-align: right;\">\n",
       "      <th></th>\n",
       "      <th>pre_util1</th>\n",
       "      <th>pre_util2</th>\n",
       "      <th>pre_util3</th>\n",
       "      <th>pre_util4</th>\n",
       "      <th>pre_util5</th>\n",
       "    </tr>\n",
       "  </thead>\n",
       "  <tbody>\n",
       "    <tr>\n",
       "      <th>PC 1</th>\n",
       "      <td>-0.475579</td>\n",
       "      <td>-0.522883</td>\n",
       "      <td>-0.496001</td>\n",
       "      <td>-0.461809</td>\n",
       "      <td>-0.202811</td>\n",
       "    </tr>\n",
       "    <tr>\n",
       "      <th>PC 2</th>\n",
       "      <td>0.200008</td>\n",
       "      <td>0.287863</td>\n",
       "      <td>0.053486</td>\n",
       "      <td>-0.187018</td>\n",
       "      <td>-0.916131</td>\n",
       "    </tr>\n",
       "    <tr>\n",
       "      <th>PC 3</th>\n",
       "      <td>0.343165</td>\n",
       "      <td>0.105791</td>\n",
       "      <td>0.233309</td>\n",
       "      <td>-0.853788</td>\n",
       "      <td>0.296073</td>\n",
       "    </tr>\n",
       "    <tr>\n",
       "      <th>PC 4</th>\n",
       "      <td>-0.000254</td>\n",
       "      <td>-0.664738</td>\n",
       "      <td>0.723662</td>\n",
       "      <td>0.053682</td>\n",
       "      <td>-0.177636</td>\n",
       "    </tr>\n",
       "    <tr>\n",
       "      <th>PC 5</th>\n",
       "      <td>0.784894</td>\n",
       "      <td>-0.436645</td>\n",
       "      <td>-0.415936</td>\n",
       "      <td>0.141143</td>\n",
       "      <td>-0.018941</td>\n",
       "    </tr>\n",
       "  </tbody>\n",
       "</table>\n",
       "</div>"
      ],
      "text/plain": [
       "      pre_util1  pre_util2  pre_util3  pre_util4  pre_util5\n",
       "PC 1  -0.475579  -0.522883  -0.496001  -0.461809  -0.202811\n",
       "PC 2   0.200008   0.287863   0.053486  -0.187018  -0.916131\n",
       "PC 3   0.343165   0.105791   0.233309  -0.853788   0.296073\n",
       "PC 4  -0.000254  -0.664738   0.723662   0.053682  -0.177636\n",
       "PC 5   0.784894  -0.436645  -0.415936   0.141143  -0.018941"
      ]
     },
     "metadata": {},
     "output_type": "display_data"
    },
    {
     "name": "stdout",
     "output_type": "stream",
     "text": [
      "Utility Value variance explained:\n",
      "[0.64466999 0.16054666 0.11052044 0.05678174 0.02748116]\n",
      "\n",
      "(99, 68)\n",
      "Training Score:  \n",
      "MSE:  17.921805586567345\n",
      "MAE:  3.0852478837721256\n",
      "r-squared:  0.4110058522076524\n",
      "\n",
      "\n",
      "Testing Score:   \n",
      "MSE:  28.31022891825207\n",
      "MAE:  4.079837263730144\n",
      "r-squared:  0.0816566728326309\n",
      "Training plots:  \n"
     ]
    },
    {
     "data": {
      "image/png": "[encoded data removed]",
      "text/plain": [
       "<Figure size 576x216 with 1 Axes>"
      ]
     },
     "metadata": {
      "needs_background": "light"
     },
     "output_type": "display_data"
    },
    {
     "name": "stdout",
     "output_type": "stream",
     "text": [
      "Testing plots：  \n"
     ]
    },
    {
     "data": {
      "image/png": "[encoded data removed]",
      "text/plain": [
       "<Figure size 576x216 with 1 Axes>"
      ]
     },
     "metadata": {
      "needs_background": "light"
     },
     "output_type": "display_data"
    },
    {
     "name": "stdout",
     "output_type": "stream",
     "text": [
      "\n",
      "\n",
      "\n",
      "Week 2\n"
     ]
    },
    {
     "data": {
      "text/html": [
       "<div>\n",
       "<style scoped>\n",
       "    .dataframe tbody tr th:only-of-type {\n",
       "        vertical-align: middle;\n",
       "    }\n",
       "\n",
       "    .dataframe tbody tr th {\n",
       "        vertical-align: top;\n",
       "    }\n",
       "\n",
       "    .dataframe thead th {\n",
       "        text-align: right;\n",
       "    }\n",
       "</style>\n",
       "<table border=\"1\" class=\"dataframe\">\n",
       "  <thead>\n",
       "    <tr style=\"text-align: right;\">\n",
       "      <th></th>\n",
       "      <th>iemot1w2</th>\n",
       "      <th>iemot7w2</th>\n",
       "      <th>iemot5w2</th>\n",
       "      <th>iemot2w2</th>\n",
       "      <th>iemot3w2</th>\n",
       "      <th>iemot4w2</th>\n",
       "    </tr>\n",
       "  </thead>\n",
       "  <tbody>\n",
       "    <tr>\n",
       "      <th>PC 1</th>\n",
       "      <td>-0.415039</td>\n",
       "      <td>-0.480413</td>\n",
       "      <td>-0.439554</td>\n",
       "      <td>-0.464072</td>\n",
       "      <td>-0.411280</td>\n",
       "      <td>-0.138655</td>\n",
       "    </tr>\n",
       "    <tr>\n",
       "      <th>PC 2</th>\n",
       "      <td>-0.431695</td>\n",
       "      <td>0.680249</td>\n",
       "      <td>0.287449</td>\n",
       "      <td>-0.277406</td>\n",
       "      <td>-0.407088</td>\n",
       "      <td>0.159997</td>\n",
       "    </tr>\n",
       "    <tr>\n",
       "      <th>PC 3</th>\n",
       "      <td>0.059075</td>\n",
       "      <td>0.434172</td>\n",
       "      <td>-0.380290</td>\n",
       "      <td>0.082362</td>\n",
       "      <td>0.019830</td>\n",
       "      <td>-0.810066</td>\n",
       "    </tr>\n",
       "    <tr>\n",
       "      <th>PC 4</th>\n",
       "      <td>0.170896</td>\n",
       "      <td>0.182985</td>\n",
       "      <td>-0.146450</td>\n",
       "      <td>-0.752343</td>\n",
       "      <td>0.579790</td>\n",
       "      <td>0.116989</td>\n",
       "    </tr>\n",
       "    <tr>\n",
       "      <th>PC 5</th>\n",
       "      <td>0.000807</td>\n",
       "      <td>-0.286629</td>\n",
       "      <td>0.746915</td>\n",
       "      <td>-0.276670</td>\n",
       "      <td>0.027158</td>\n",
       "      <td>-0.531674</td>\n",
       "    </tr>\n",
       "  </tbody>\n",
       "</table>\n",
       "</div>"
      ],
      "text/plain": [
       "      iemot1w2  iemot7w2  iemot5w2  iemot2w2  iemot3w2  iemot4w2\n",
       "PC 1 -0.415039 -0.480413 -0.439554 -0.464072 -0.411280 -0.138655\n",
       "PC 2 -0.431695  0.680249  0.287449 -0.277406 -0.407088  0.159997\n",
       "PC 3  0.059075  0.434172 -0.380290  0.082362  0.019830 -0.810066\n",
       "PC 4  0.170896  0.182985 -0.146450 -0.752343  0.579790  0.116989\n",
       "PC 5  0.000807 -0.286629  0.746915 -0.276670  0.027158 -0.531674"
      ]
     },
     "metadata": {},
     "output_type": "display_data"
    },
    {
     "name": "stdout",
     "output_type": "stream",
     "text": [
      "Internal/External Motivation variance explained:\n",
      "[0.55629409 0.24299942 0.07893263 0.05198011 0.04801806]\n",
      "\n",
      "(99, 38)\n",
      "Training Score:  \n",
      "MSE:  19.66659158073211\n",
      "MAE:  3.197049286358504\n",
      "r-squared:  0.4095897884661496\n",
      "\n",
      "\n",
      "Testing Score:   \n",
      "MSE:  37.300690323181996\n",
      "MAE:  4.3892067376782515\n",
      "r-squared:  0.12336803000747376\n",
      "Training plots:  \n"
     ]
    },
    {
     "data": {
      "image/png": "[encoded data removed]",
      "text/plain": [
       "<Figure size 576x216 with 1 Axes>"
      ]
     },
     "metadata": {
      "needs_background": "light"
     },
     "output_type": "display_data"
    },
    {
     "name": "stdout",
     "output_type": "stream",
     "text": [
      "Testing plots：  \n"
     ]
    },
    {
     "data": {
      "image/png": "[encoded data removed]",
      "text/plain": [
       "<Figure size 576x216 with 1 Axes>"
      ]
     },
     "metadata": {
      "needs_background": "light"
     },
     "output_type": "display_data"
    },
    {
     "name": "stdout",
     "output_type": "stream",
     "text": [
      "\n",
      "\n",
      "\n",
      "Week 3\n"
     ]
    },
    {
     "data": {
      "text/html": [
       "<div>\n",
       "<style scoped>\n",
       "    .dataframe tbody tr th:only-of-type {\n",
       "        vertical-align: middle;\n",
       "    }\n",
       "\n",
       "    .dataframe tbody tr th {\n",
       "        vertical-align: top;\n",
       "    }\n",
       "\n",
       "    .dataframe thead th {\n",
       "        text-align: right;\n",
       "    }\n",
       "</style>\n",
       "<table border=\"1\" class=\"dataframe\">\n",
       "  <thead>\n",
       "    <tr style=\"text-align: right;\">\n",
       "      <th></th>\n",
       "      <th>iemot1w3</th>\n",
       "      <th>iemot5w3</th>\n",
       "      <th>iemot2w3</th>\n",
       "      <th>iemot7w3</th>\n",
       "      <th>iemot4w3</th>\n",
       "      <th>iemot3w3</th>\n",
       "    </tr>\n",
       "  </thead>\n",
       "  <tbody>\n",
       "    <tr>\n",
       "      <th>PC 1</th>\n",
       "      <td>-0.391228</td>\n",
       "      <td>-0.371385</td>\n",
       "      <td>-0.475006</td>\n",
       "      <td>-0.507446</td>\n",
       "      <td>-0.142830</td>\n",
       "      <td>-0.453300</td>\n",
       "    </tr>\n",
       "    <tr>\n",
       "      <th>PC 2</th>\n",
       "      <td>0.459081</td>\n",
       "      <td>-0.273565</td>\n",
       "      <td>0.158075</td>\n",
       "      <td>-0.680398</td>\n",
       "      <td>-0.117853</td>\n",
       "      <td>0.461073</td>\n",
       "    </tr>\n",
       "    <tr>\n",
       "      <th>PC 3</th>\n",
       "      <td>-0.056894</td>\n",
       "      <td>-0.161610</td>\n",
       "      <td>0.378227</td>\n",
       "      <td>0.176335</td>\n",
       "      <td>-0.882315</td>\n",
       "      <td>-0.134220</td>\n",
       "    </tr>\n",
       "    <tr>\n",
       "      <th>PC 4</th>\n",
       "      <td>-0.376466</td>\n",
       "      <td>0.381552</td>\n",
       "      <td>0.654216</td>\n",
       "      <td>-0.444555</td>\n",
       "      <td>0.181391</td>\n",
       "      <td>-0.232728</td>\n",
       "    </tr>\n",
       "    <tr>\n",
       "      <th>PC 5</th>\n",
       "      <td>-0.149951</td>\n",
       "      <td>-0.784550</td>\n",
       "      <td>0.409431</td>\n",
       "      <td>0.225012</td>\n",
       "      <td>0.378095</td>\n",
       "      <td>-0.027867</td>\n",
       "    </tr>\n",
       "  </tbody>\n",
       "</table>\n",
       "</div>"
      ],
      "text/plain": [
       "      iemot1w3  iemot5w3  iemot2w3  iemot7w3  iemot4w3  iemot3w3\n",
       "PC 1 -0.391228 -0.371385 -0.475006 -0.507446 -0.142830 -0.453300\n",
       "PC 2  0.459081 -0.273565  0.158075 -0.680398 -0.117853  0.461073\n",
       "PC 3 -0.056894 -0.161610  0.378227  0.176335 -0.882315 -0.134220\n",
       "PC 4 -0.376466  0.381552  0.654216 -0.444555  0.181391 -0.232728\n",
       "PC 5 -0.149951 -0.784550  0.409431  0.225012  0.378095 -0.027867"
      ]
     },
     "metadata": {},
     "output_type": "display_data"
    },
    {
     "name": "stdout",
     "output_type": "stream",
     "text": [
      "Internal/External Motivation variance explained:\n",
      "[0.53874758 0.22835896 0.09441929 0.07272024 0.04475191]\n",
      "\n",
      "(99, 35)\n",
      "Training Score:  \n",
      "MSE:  10.7325360267609\n",
      "MAE:  2.4494519639837926\n",
      "r-squared:  0.6353384798564107\n",
      "\n",
      "\n",
      "Testing Score:   \n",
      "MSE:  41.67151081139573\n",
      "MAE:  4.551401360103509\n",
      "r-squared:  0.013458550866578323\n",
      "Training plots:  \n"
     ]
    },
    {
     "data": {
      "image/png": "[encoded data removed]",
      "text/plain": [
       "<Figure size 576x216 with 1 Axes>"
      ]
     },
     "metadata": {
      "needs_background": "light"
     },
     "output_type": "display_data"
    },
    {
     "name": "stdout",
     "output_type": "stream",
     "text": [
      "Testing plots：  \n"
     ]
    },
    {
     "data": {
      "image/png": "[encoded data removed]",
      "text/plain": [
       "<Figure size 576x216 with 1 Axes>"
      ]
     },
     "metadata": {
      "needs_background": "light"
     },
     "output_type": "display_data"
    },
    {
     "name": "stdout",
     "output_type": "stream",
     "text": [
      "\n",
      "\n",
      "\n",
      "Week 4\n"
     ]
    },
    {
     "data": {
      "text/html": [
       "<div>\n",
       "<style scoped>\n",
       "    .dataframe tbody tr th:only-of-type {\n",
       "        vertical-align: middle;\n",
       "    }\n",
       "\n",
       "    .dataframe tbody tr th {\n",
       "        vertical-align: top;\n",
       "    }\n",
       "\n",
       "    .dataframe thead th {\n",
       "        text-align: right;\n",
       "    }\n",
       "</style>\n",
       "<table border=\"1\" class=\"dataframe\">\n",
       "  <thead>\n",
       "    <tr style=\"text-align: right;\">\n",
       "      <th></th>\n",
       "      <th>iemot2w4</th>\n",
       "      <th>iemot7w4</th>\n",
       "      <th>iemot4w4</th>\n",
       "      <th>iemot3w4</th>\n",
       "      <th>iemot1w4</th>\n",
       "      <th>iemot5w4</th>\n",
       "    </tr>\n",
       "  </thead>\n",
       "  <tbody>\n",
       "    <tr>\n",
       "      <th>PC 1</th>\n",
       "      <td>-0.489318</td>\n",
       "      <td>-0.431584</td>\n",
       "      <td>-0.230875</td>\n",
       "      <td>-0.427440</td>\n",
       "      <td>-0.446194</td>\n",
       "      <td>-0.373102</td>\n",
       "    </tr>\n",
       "    <tr>\n",
       "      <th>PC 2</th>\n",
       "      <td>0.236847</td>\n",
       "      <td>-0.735992</td>\n",
       "      <td>0.088146</td>\n",
       "      <td>0.339467</td>\n",
       "      <td>0.384460</td>\n",
       "      <td>-0.362495</td>\n",
       "    </tr>\n",
       "    <tr>\n",
       "      <th>PC 3</th>\n",
       "      <td>0.068282</td>\n",
       "      <td>0.185696</td>\n",
       "      <td>-0.925780</td>\n",
       "      <td>0.186308</td>\n",
       "      <td>0.194166</td>\n",
       "      <td>-0.177127</td>\n",
       "    </tr>\n",
       "    <tr>\n",
       "      <th>PC 4</th>\n",
       "      <td>-0.656490</td>\n",
       "      <td>-0.248101</td>\n",
       "      <td>-0.101327</td>\n",
       "      <td>0.186973</td>\n",
       "      <td>0.341774</td>\n",
       "      <td>0.587735</td>\n",
       "    </tr>\n",
       "    <tr>\n",
       "      <th>PC 5</th>\n",
       "      <td>0.518313</td>\n",
       "      <td>-0.411905</td>\n",
       "      <td>-0.265484</td>\n",
       "      <td>-0.327506</td>\n",
       "      <td>-0.207187</td>\n",
       "      <td>0.583968</td>\n",
       "    </tr>\n",
       "  </tbody>\n",
       "</table>\n",
       "</div>"
      ],
      "text/plain": [
       "      iemot2w4  iemot7w4  iemot4w4  iemot3w4  iemot1w4  iemot5w4\n",
       "PC 1 -0.489318 -0.431584 -0.230875 -0.427440 -0.446194 -0.373102\n",
       "PC 2  0.236847 -0.735992  0.088146  0.339467  0.384460 -0.362495\n",
       "PC 3  0.068282  0.185696 -0.925780  0.186308  0.194166 -0.177127\n",
       "PC 4 -0.656490 -0.248101 -0.101327  0.186973  0.341774  0.587735\n",
       "PC 5  0.518313 -0.411905 -0.265484 -0.327506 -0.207187  0.583968"
      ]
     },
     "metadata": {},
     "output_type": "display_data"
    },
    {
     "name": "stdout",
     "output_type": "stream",
     "text": [
      "Internal/External Motivation variance explained:\n",
      "[0.60014628 0.20688934 0.08210959 0.05119709 0.04362082]\n",
      "\n",
      "(99, 39)\n",
      "Training Score:  \n",
      "MSE:  8.179811558132716\n",
      "MAE:  2.220485850446584\n",
      "r-squared:  0.7446264010009491\n",
      "\n",
      "\n",
      "Testing Score:   \n",
      "MSE:  30.622939108521404\n",
      "MAE:  3.6865123490476983\n",
      "r-squared:  0.146696228254367\n",
      "Training plots:  \n"
     ]
    },
    {
     "data": {
      "image/png": "[encoded data removed]",
      "text/plain": [
       "<Figure size 576x216 with 1 Axes>"
      ]
     },
     "metadata": {
      "needs_background": "light"
     },
     "output_type": "display_data"
    },
    {
     "name": "stdout",
     "output_type": "stream",
     "text": [
      "Testing plots：  \n"
     ]
    },
    {
     "data": {
      "image/png": "[encoded data removed]",
      "text/plain": [
       "<Figure size 576x216 with 1 Axes>"
      ]
     },
     "metadata": {
      "needs_background": "light"
     },
     "output_type": "display_data"
    },
    {
     "name": "stdout",
     "output_type": "stream",
     "text": [
      "\n",
      "\n",
      "\n",
      "Week 5\n"
     ]
    },
    {
     "data": {
      "text/html": [
       "<div>\n",
       "<style scoped>\n",
       "    .dataframe tbody tr th:only-of-type {\n",
       "        vertical-align: middle;\n",
       "    }\n",
       "\n",
       "    .dataframe tbody tr th {\n",
       "        vertical-align: top;\n",
       "    }\n",
       "\n",
       "    .dataframe thead th {\n",
       "        text-align: right;\n",
       "    }\n",
       "</style>\n",
       "<table border=\"1\" class=\"dataframe\">\n",
       "  <thead>\n",
       "    <tr style=\"text-align: right;\">\n",
       "      <th></th>\n",
       "      <th>iemot7w5</th>\n",
       "      <th>iemot5w5</th>\n",
       "      <th>iemot3w5</th>\n",
       "      <th>iemot2w5</th>\n",
       "      <th>iemot1w5</th>\n",
       "      <th>iemot4w5</th>\n",
       "    </tr>\n",
       "  </thead>\n",
       "  <tbody>\n",
       "    <tr>\n",
       "      <th>PC 1</th>\n",
       "      <td>-0.459092</td>\n",
       "      <td>-0.409250</td>\n",
       "      <td>-0.405585</td>\n",
       "      <td>-0.476744</td>\n",
       "      <td>-0.432209</td>\n",
       "      <td>-0.207749</td>\n",
       "    </tr>\n",
       "    <tr>\n",
       "      <th>PC 2</th>\n",
       "      <td>0.624064</td>\n",
       "      <td>0.340037</td>\n",
       "      <td>-0.421215</td>\n",
       "      <td>-0.199683</td>\n",
       "      <td>-0.476955</td>\n",
       "      <td>0.223913</td>\n",
       "    </tr>\n",
       "    <tr>\n",
       "      <th>PC 3</th>\n",
       "      <td>0.372003</td>\n",
       "      <td>-0.153204</td>\n",
       "      <td>-0.185927</td>\n",
       "      <td>0.279814</td>\n",
       "      <td>0.024930</td>\n",
       "      <td>-0.851267</td>\n",
       "    </tr>\n",
       "    <tr>\n",
       "      <th>PC 4</th>\n",
       "      <td>-0.419133</td>\n",
       "      <td>0.823199</td>\n",
       "      <td>0.022528</td>\n",
       "      <td>-0.051147</td>\n",
       "      <td>-0.127499</td>\n",
       "      <td>-0.356780</td>\n",
       "    </tr>\n",
       "    <tr>\n",
       "      <th>PC 5</th>\n",
       "      <td>-0.284274</td>\n",
       "      <td>-0.036411</td>\n",
       "      <td>-0.375053</td>\n",
       "      <td>0.800020</td>\n",
       "      <td>-0.299074</td>\n",
       "      <td>0.218452</td>\n",
       "    </tr>\n",
       "  </tbody>\n",
       "</table>\n",
       "</div>"
      ],
      "text/plain": [
       "      iemot7w5  iemot5w5  iemot3w5  iemot2w5  iemot1w5  iemot4w5\n",
       "PC 1 -0.459092 -0.409250 -0.405585 -0.476744 -0.432209 -0.207749\n",
       "PC 2  0.624064  0.340037 -0.421215 -0.199683 -0.476955  0.223913\n",
       "PC 3  0.372003 -0.153204 -0.185927  0.279814  0.024930 -0.851267\n",
       "PC 4 -0.419133  0.823199  0.022528 -0.051147 -0.127499 -0.356780\n",
       "PC 5 -0.284274 -0.036411 -0.375053  0.800020 -0.299074  0.218452"
      ]
     },
     "metadata": {},
     "output_type": "display_data"
    },
    {
     "name": "stdout",
     "output_type": "stream",
     "text": [
      "Internal/External Motivation variance explained:\n",
      "[0.61342774 0.20260267 0.0880567  0.03956087 0.03752524]\n",
      "\n",
      "(99, 38)\n",
      "Training Score:  \n",
      "MSE:  12.644214163926197\n",
      "MAE:  2.2358047946067217\n",
      "r-squared:  0.6963407346806758\n",
      "\n",
      "\n",
      "Testing Score:   \n",
      "MSE:  25.394490170992768\n",
      "MAE:  3.331081870039088\n",
      "r-squared:  0.48500324131022576\n",
      "Training plots:  \n"
     ]
    },
    {
     "data": {
      "image/png": "[encoded data removed]",
      "text/plain": [
       "<Figure size 576x216 with 1 Axes>"
      ]
     },
     "metadata": {
      "needs_background": "light"
     },
     "output_type": "display_data"
    },
    {
     "name": "stdout",
     "output_type": "stream",
     "text": [
      "Testing plots：  \n"
     ]
    },
    {
     "data": {
      "image/png": "[encoded data removed]",
      "text/plain": [
       "<Figure size 576x216 with 1 Axes>"
      ]
     },
     "metadata": {
      "needs_background": "light"
     },
     "output_type": "display_data"
    },
    {
     "name": "stdout",
     "output_type": "stream",
     "text": [
      "\n",
      "\n",
      "\n"
     ]
    }
   ],
   "source": [
    "# using 3 PC: can see after the third principal, the var explained is very small\n",
    "for week_num in range(1, 6):\n",
    "    print(\"Week {}\".format(week_num))\n",
    "    train_model(df_proc, week_num, n_comp=5, use_fr = False, plot = True, verbose = True)\n",
    "    print('\\n\\n')"
   ]
  },
  {
   "cell_type": "code",
   "execution_count": null,
   "metadata": {},
   "outputs": [],
   "source": []
  },
  {
   "cell_type": "code",
   "execution_count": null,
   "metadata": {},
   "outputs": [],
   "source": []
  },
  {
   "cell_type": "code",
   "execution_count": null,
   "metadata": {},
   "outputs": [],
   "source": []
  },
  {
   "cell_type": "code",
   "execution_count": null,
   "metadata": {},
   "outputs": [],
   "source": []
  },
  {
   "cell_type": "code",
   "execution_count": null,
   "metadata": {},
   "outputs": [],
   "source": []
  },
  {
   "cell_type": "code",
   "execution_count": null,
   "metadata": {},
   "outputs": [],
   "source": []
  }
 ],
 "metadata": {
  "kernelspec": {
   "display_name": "Python 3",
   "language": "python",
   "name": "python3"
  },
  "language_info": {
   "codemirror_mode": {
    "name": "ipython",
    "version": 3
   },
   "file_extension": ".py",
   "mimetype": "text/x-python",
   "name": "python",
   "nbconvert_exporter": "python",
   "pygments_lexer": "ipython3",
   "version": "3.6.4"
  }
 },
 "nbformat": 4,
 "nbformat_minor": 2
}
