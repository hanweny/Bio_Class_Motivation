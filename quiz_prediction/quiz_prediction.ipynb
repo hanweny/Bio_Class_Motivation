{
 "cells": [
  {
   "cell_type": "markdown",
   "metadata": {},
   "source": [
    "## Naive LR on all selected variables\n",
    "- Used all selected var from VAR MAP\n",
    "- Filled NA with mean"
   ]
  },
  {
   "cell_type": "code",
   "execution_count": 1,
   "metadata": {},
   "outputs": [],
   "source": [
    "import sys, os\n",
    "DMOL_DIR = \"/Users/Henryye/research/shaf/DMOL\"\n",
    "sys.path.append(os.path.join(DMOL_DIR, \"utils\"))\n",
    "\n",
    "from ml_utils import *\n",
    "\n",
    "\n",
    "import numpy as np\n",
    "import pandas as pd\n",
    "pd.options.display.max_columns = 999\n",
    "\n",
    "from sklearn.linear_model import LinearRegression\n",
    "from sklearn.model_selection import train_test_split\n",
    "from sklearn.metrics import mean_squared_error, mean_absolute_error, r2_score\n",
    "\n",
    "import warnings\n",
    "warnings.filterwarnings('ignore')"
   ]
  },
  {
   "cell_type": "code",
   "execution_count": 2,
   "metadata": {},
   "outputs": [],
   "source": [
    "def get_metrics(y_true, y_pred):\n",
    "    print(\"MSE:  {}\".format(mean_squared_error(y_true, y_pred)))\n",
    "    print(\"MAE:  {}\".format(mean_absolute_error(y_true, y_pred)))\n",
    "    print(\"r-squared:  {}\".format(r2_score(y_true, y_pred)))\n",
    "\n",
    "def train_model(df, week_num, use_fr = False):\n",
    "    target = \"gr_revq{}\".format(week_num)\n",
    "    var_map_curr = NEW_VAR_MAP[\"week_{}\".format(week_num)]\n",
    "    var_to_use = [var for var_list in var_map_curr[\"Quant\"].values() for var in var_list] + \\\n",
    "                 [\"gr_revq{}\".format(i) for i in range(max(1, week_num-1), week_num)]\n",
    "    if use_fr:\n",
    "        fr_vars = [var for var_list in var_map_curr[\"FR\"].values() for var in var_list]\n",
    "        for var in fr_vars:\n",
    "            if df[var].dtypes != np.dtype('object'):\n",
    "                var_to_use.append(var)\n",
    "    \n",
    "    df_model = df[var_to_use + [target]].copy()\n",
    "    df_model = df_model.fillna(df_model.mean())\n",
    "    X, y = df_model[var_to_use].copy(), df_model[target]\n",
    "    X_train, X_test, y_train, y_test = train_test_split(X, y, test_size = 0.2, random_state = 42)\n",
    "    reg = LinearRegression().fit(X_train, y_train)\n",
    "    print(\"Training Score:  \")\n",
    "    get_metrics(y_train, reg.predict(X_train))\n",
    "    print('\\n')\n",
    "    print(\"Testing Score:   \")\n",
    "    get_metrics(y_test, reg.predict(X_test)) "
   ]
  },
  {
   "cell_type": "code",
   "execution_count": 3,
   "metadata": {},
   "outputs": [],
   "source": [
    "df = pd.read_csv(\"../data/class_data.csv\")\n",
    "df_proc = preprocess_df(df, verbose = False)"
   ]
  },
  {
   "cell_type": "code",
   "execution_count": 7,
   "metadata": {},
   "outputs": [
    {
     "name": "stdout",
     "output_type": "stream",
     "text": [
      "Week 1\n",
      "Training Score:  \n",
      "MSE:  1.4330110710625403\n",
      "MAE:  0.9591278425161307\n",
      "r-squared:  0.9529045703291137\n",
      "\n",
      "\n",
      "Testing Score:   \n",
      "MSE:  596.6431285858359\n",
      "MAE:  19.42984895771952\n",
      "r-squared:  -18.35424956891853\n",
      "\n",
      "\n",
      "\n",
      "Week 2\n",
      "Training Score:  \n",
      "MSE:  10.69623327986631\n",
      "MAE:  2.4456509390321184\n",
      "r-squared:  0.6788886713054836\n",
      "\n",
      "\n",
      "Testing Score:   \n",
      "MSE:  118.37617368194326\n",
      "MAE:  8.209799152390413\n",
      "r-squared:  -1.7820487351808052\n",
      "\n",
      "\n",
      "\n",
      "Week 3\n",
      "Training Score:  \n",
      "MSE:  8.290328733836414\n",
      "MAE:  1.9687012045933299\n",
      "r-squared:  0.718317844819454\n",
      "\n",
      "\n",
      "Testing Score:   \n",
      "MSE:  51.67308357801062\n",
      "MAE:  5.529520776416876\n",
      "r-squared:  -0.2233211074339636\n",
      "\n",
      "\n",
      "\n",
      "Week 4\n",
      "Training Score:  \n",
      "MSE:  5.799635996471948\n",
      "MAE:  1.7089554750590306\n",
      "r-squared:  0.8189354477450106\n",
      "\n",
      "\n",
      "Testing Score:   \n",
      "MSE:  75.97547615600602\n",
      "MAE:  6.585883957911518\n",
      "r-squared:  -1.117045660912742\n",
      "\n",
      "\n",
      "\n",
      "Week 5\n",
      "Training Score:  \n",
      "MSE:  7.297895147976916\n",
      "MAE:  1.6383002151783945\n",
      "r-squared:  0.8247361638863596\n",
      "\n",
      "\n",
      "Testing Score:   \n",
      "MSE:  54.957503234725245\n",
      "MAE:  5.241297335150479\n",
      "r-squared:  -0.11453058679223793\n",
      "\n",
      "\n",
      "\n"
     ]
    }
   ],
   "source": [
    "for week_num in range(1, 6):\n",
    "    print(\"Week {}\".format(week_num))\n",
    "    train_model(df_proc, week_num, use_fr = False)\n",
    "    print('\\n\\n')"
   ]
  },
  {
   "cell_type": "code",
   "execution_count": null,
   "metadata": {},
   "outputs": [],
   "source": []
  },
  {
   "cell_type": "code",
   "execution_count": null,
   "metadata": {},
   "outputs": [],
   "source": []
  },
  {
   "cell_type": "code",
   "execution_count": null,
   "metadata": {},
   "outputs": [],
   "source": []
  },
  {
   "cell_type": "code",
   "execution_count": null,
   "metadata": {},
   "outputs": [],
   "source": []
  },
  {
   "cell_type": "code",
   "execution_count": null,
   "metadata": {},
   "outputs": [],
   "source": []
  },
  {
   "cell_type": "code",
   "execution_count": null,
   "metadata": {},
   "outputs": [],
   "source": []
  },
  {
   "cell_type": "code",
   "execution_count": null,
   "metadata": {},
   "outputs": [],
   "source": []
  }
 ],
 "metadata": {
  "kernelspec": {
   "display_name": "Python 3",
   "language": "python",
   "name": "python3"
  },
  "language_info": {
   "codemirror_mode": {
    "name": "ipython",
    "version": 3
   },
   "file_extension": ".py",
   "mimetype": "text/x-python",
   "name": "python",
   "nbconvert_exporter": "python",
   "pygments_lexer": "ipython3",
   "version": "3.6.4"
  }
 },
 "nbformat": 4,
 "nbformat_minor": 2
}
