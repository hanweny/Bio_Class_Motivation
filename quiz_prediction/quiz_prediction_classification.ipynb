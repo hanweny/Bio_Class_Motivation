{
 "cells": [
  {
   "cell_type": "code",
   "execution_count": 2,
   "metadata": {},
   "outputs": [],
   "source": [
    "import sys, os\n",
    "DMOL_DIR = \"/Users/Henryye/research/shaf/DMOL\"\n",
    "sys.path.append(os.path.join(DMOL_DIR, \"utils\"))\n",
    "\n",
    "#from ml_utlis import *\n",
    "# insert at 1, 0 is the script path (or '' in REPL)\n",
    "sys.path.insert(1, '/Users/CalebPitts/Documents/Files/School/College/19-20-Year/Research/DMOL/utils')\n",
    "#from ml_utils import *\n",
    "\n",
    "import numpy as np\n",
    "import pandas as pd\n",
    "pd.options.display.max_columns = 999\n",
    "\n",
    "import matplotlib.pyplot as plt\n",
    "\n",
    "from sklearn.linear_model import LinearRegression, Lasso\n",
    "from sklearn.ensemble import RandomForestClassifier\n",
    "from sklearn.model_selection import train_test_split\n",
    "from sklearn.metrics import mean_squared_error, mean_absolute_error, r2_score, accuracy_score\n",
    "from sklearn.decomposition import PCA\n",
    "\n",
    "import warnings\n",
    "warnings.filterwarnings('ignore')"
   ]
  },
  {
   "cell_type": "code",
   "execution_count": 3,
   "metadata": {},
   "outputs": [
    {
     "ename": "NameError",
     "evalue": "name 'load_object' is not defined",
     "output_type": "error",
     "traceback": [
      "\u001b[0;31m---------------------------------------------------------------------------\u001b[0m",
      "\u001b[0;31mNameError\u001b[0m                                 Traceback (most recent call last)",
      "\u001b[0;32m<ipython-input-3-e56f60d7c8e7>\u001b[0m in \u001b[0;36m<module>\u001b[0;34m\u001b[0m\n\u001b[1;32m      1\u001b[0m \u001b[0mdf_proc\u001b[0m \u001b[0;34m=\u001b[0m \u001b[0mpd\u001b[0m\u001b[0;34m.\u001b[0m\u001b[0mread_csv\u001b[0m\u001b[0;34m(\u001b[0m\u001b[0;34m\"/Users/CalebPitts/Documents/Files/School/College/19-20-Year/Research/data/proc_df.csv\"\u001b[0m\u001b[0;34m)\u001b[0m\u001b[0;34m\u001b[0m\u001b[0;34m\u001b[0m\u001b[0m\n\u001b[0;32m----> 2\u001b[0;31m \u001b[0mvar_map\u001b[0m \u001b[0;34m=\u001b[0m \u001b[0mload_object\u001b[0m\u001b[0;34m(\u001b[0m\u001b[0;34m\"/Users/CalebPitts/Documents/Files/School/College/19-20-Year/Research/data/var_map.pkl\"\u001b[0m\u001b[0;34m)\u001b[0m\u001b[0;34m\u001b[0m\u001b[0;34m\u001b[0m\u001b[0m\n\u001b[0m",
      "\u001b[0;31mNameError\u001b[0m: name 'load_object' is not defined"
     ]
    }
   ],
   "source": [
    "df_proc = pd.read_csv(\"/Users/CalebPitts/Documents/Files/School/College/19-20-Year/Research/data/proc_df.csv\")\n",
    "var_map = load_object(\"/Users/CalebPitts/Documents/Files/School/College/19-20-Year/Research/data/var_map.pkl\")"
   ]
  },
  {
   "cell_type": "code",
   "execution_count": 4,
   "metadata": {},
   "outputs": [],
   "source": [
    "def train_model(df, week_num, n_comp = None, use_fr = False, plot = False, verbose = False):\n",
    "    \n",
    "    def construct_X(df, var_map_curr, n_comp = None, verbose = False):\n",
    "        X = pd.DataFrame()\n",
    "        pca = PCA(n_components=n_comp) if n_comp is not None else None\n",
    "        print(pca.components_)\n",
    "        for construct in var_map_curr[\"Quant\"]:\n",
    "            temp = df[list(var_map_curr[\"Quant\"][construct])].copy()\n",
    "            temp = temp.fillna(temp.mode().iloc[0])\n",
    "            if n_comp is None:\n",
    "                temp_mean = pd.DataFrame(temp.mean(axis=1))\n",
    "                temp_mean.columns = [\"{}_mean\".format(construct)]\n",
    "                X = pd.concat([X, temp_mean], axis = 1)\n",
    "            else:\n",
    "                if len(var_map_curr[\"Quant\"][construct]) < n_comp:\n",
    "                    X = pd.concat([X, temp.copy()], axis = 1)\n",
    "                else:\n",
    "                    temp_pca = pd.DataFrame(pca.fit_transform(temp))\n",
    "                    temp_pca.columns = [\"{}_PC{}\".format(construct, i) for i in range(1, n_comp+1)]\n",
    "                    X = pd.concat([X, temp_pca], axis = 1)\n",
    "                    if verbose:\n",
    "                        print(\"{} variance explained:\\n{}\\n\".format(construct, pca.explained_variance_ratio_))\n",
    "        return X\n",
    "    \n",
    "    var_map_curr = NEW_VAR_MAP[\"week_{}\".format(week_num)]\n",
    "    X, y = construct_X(df, var_map_curr, n_comp, verbose), df[\"gr_revq{}_quantile\".format(week_num)]\n",
    "    for gr in [\"gr_revq{}\".format(i) for i in range(max(1, week_num-1), week_num)]:\n",
    "        X[gr] = df[gr]\n",
    "    \n",
    "    ### Classification Modeling ###\n",
    "    X_train, X_test, y_train, y_test = train_test_split(X, y, test_size = 0.2, random_state = 42)\n",
    "\n",
    "    \n",
    "    for n in range(5, 9):\n",
    "        print(\"\\nN Estimators:\", n)\n",
    "        mod = RandomForestClassifier(n_estimators=n, max_depth=None).fit(X_train, y_train)\n",
    "    \n",
    "        y_train_pred = mod.predict(X_train)\n",
    "        print(\"Training Accuracy: {}\".format(accuracy_score(y_train, y_train_pred)))\n",
    "\n",
    "        y_test_pred = mod.predict(X_test)\n",
    "        print(\"Testing  Accuracy: {}\".format(accuracy_score(y_test, y_test_pred)))"
   ]
  },
  {
   "cell_type": "code",
   "execution_count": null,
   "metadata": {},
   "outputs": [],
   "source": [
    "for week_num in range(1, 6):\n",
    "    print(\"Week {}\".format(week_num))\n",
    "    train_model(df_proc, week_num, use_fr = False, plot = False)\n",
    "    print('\\n\\n')"
   ]
  },
  {
   "cell_type": "code",
   "execution_count": null,
   "metadata": {},
   "outputs": [],
   "source": []
  },
  {
   "cell_type": "code",
   "execution_count": null,
   "metadata": {},
   "outputs": [],
   "source": []
  },
  {
   "cell_type": "code",
   "execution_count": null,
   "metadata": {},
   "outputs": [],
   "source": []
  },
  {
   "cell_type": "code",
   "execution_count": null,
   "metadata": {},
   "outputs": [],
   "source": []
  }
 ],
 "metadata": {
  "kernelspec": {
   "display_name": "Python 3",
   "language": "python",
   "name": "python3"
  },
  "language_info": {
   "codemirror_mode": {
    "name": "ipython",
    "version": 3
   },
   "file_extension": ".py",
   "mimetype": "text/x-python",
   "name": "python",
   "nbconvert_exporter": "python",
   "pygments_lexer": "ipython3",
   "version": "3.6.7"
  }
 },
 "nbformat": 4,
 "nbformat_minor": 2
}
